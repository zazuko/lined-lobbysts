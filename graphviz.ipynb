{
 "metadata": {
  "language_info": {
   "codemirror_mode": {
    "name": "ipython",
    "version": 3
   },
   "file_extension": ".py",
   "mimetype": "text/x-python",
   "name": "python",
   "nbconvert_exporter": "python",
   "pygments_lexer": "ipython3",
   "version": 3
  },
  "orig_nbformat": 2
 },
 "nbformat": 4,
 "nbformat_minor": 2,
 "cells": [
  {
   "cell_type": "code",
   "execution_count": null,
   "metadata": {},
   "outputs": [],
   "source": [
    "import networkx\n",
    "import poetry\n",
    "from api_clients import SparqlClient\n"
   ]
  },
  {
   "cell_type": "code",
   "execution_count": null,
   "metadata": {},
   "outputs": [],
   "source": [
    "client = SparqlClient()\n",
    "query = \"\"\"\n",
    "    PREFIX schema: <http://schema.org/>\n",
    "    PREFIX dbo: <http://dbpedia.org/ontology/>\n",
    "    PREFIX lw: <https://lod.lobbywatch.ch/>\n",
    "    PREFIX org: <http://www.w3.org/ns/org#>\n",
    "\n",
    "    SELECT ?party ?parliamentMemberGaveAccessTo ?lobbyist ?representing WHERE {\n",
    "    ?access a lw:AccessRight .\n",
    "    ?access lw:issuedBy ?parliamentMember .\n",
    "    ?access lw:issuedTo ?person .\n",
    "    ?politicianUri schema:givenName ?pGivenName .\n",
    "    ?politicianUri schema:familyName ?pFamilyName .\n",
    "    \n",
    "    ?politicianUri schema:memberOf ?partyUri .\n",
    "    ?partyUri <http://www.w3.org/2004/02/skos/core#altLabel> ?party .\n",
    "    ?partyUri a dbo:PoliticalParty .\n",
    "    \n",
    "    BIND(CONCAT(?pGivenName, \" \", ?pFamilyName) AS ?politician) .\n",
    "    ?person schema:givenName ?viaGivenName .\n",
    "    ?person schema:familyName ?viaFamilyName .\n",
    "    BIND(CONCAT(?viaGivenName, \" \", ?viaFamilyName) AS ?lobbyist) .\n",
    "    \n",
    "    ?person org:hasMembership ?membership .\n",
    "    ?membership org:organization ?org .\n",
    "    ?org schema:name ?representing .  \n",
    "    \n",
    "    ?interests a lw:MembersInterest .\n",
    "    ?interests lw:parliamentMember ?politicianUri.\n",
    "    ?interests org:organization ?org .\n",
    "    ?org schema:name ?orgName .\n",
    "    FILTER(LANG(?representing) = \"de\")\n",
    "    } ORDER BY ?pFamilyName\n",
    "\"\"\""
   ]
  }
 ]
}