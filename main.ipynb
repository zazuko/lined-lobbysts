{
 "cells": [
  {
   "cell_type": "code",
   "execution_count": 6,
   "metadata": {},
   "outputs": [],
   "source": [
    "import pandas as pd\n",
    "import plotly.express as px\n",
    "import plotly.graph_objects as go\n",
    "import numpy as np\n",
    "\n",
    "from api_clients import SparqlClient\n",
    "\n",
    "pd.options.display.float_format = '{:,.2f}'.format"
   ]
  },
  {
   "cell_type": "code",
   "execution_count": 90,
   "metadata": {},
   "outputs": [
    {
     "output_type": "execute_result",
     "data": {
      "text/plain": [
       "             politician                       party  \\\n",
       "0             Ada Marra  Sozialdemokratische Partei   \n",
       "1             Ada Marra  Sozialdemokratische Partei   \n",
       "2             Ada Marra  Sozialdemokratische Partei   \n",
       "3             Ada Marra  Sozialdemokratische Partei   \n",
       "4  Adèle Thorens Goumaz    Grüne Partei der Schweiz   \n",
       "\n",
       "                               job  \\\n",
       "0                    Nationalrätin   \n",
       "1                    Nationalrätin   \n",
       "2                    Nationalrätin   \n",
       "3                    Nationalrätin   \n",
       "4  Beraterin, Erwachsenenbildnerin   \n",
       "\n",
       "                                           org_label employmentType  \\\n",
       "0                   Fondation Marie-Eléonore d'Olcah      part-time   \n",
       "1                               Fondation Mère Sofia      part-time   \n",
       "2            Nationale Plattform zu den Sans-Papiers      part-time   \n",
       "3             Sozialdemokratische Partei der Schweiz      part-time   \n",
       "4  Alliance suisse pour une agriculture sans géni...      part-time   \n",
       "\n",
       "   remuneration                                  role  \n",
       "0          0.00                    {beirat, mitglied}  \n",
       "1          0.00                {vorstand, praesident}  \n",
       "2          0.00                {vorstand, praesident}  \n",
       "3      5,000.00  {vizepraesident, geschaeftsfuehrend}  \n",
       "4          0.00            {vizepraesident, vorstand}  "
      ],
      "text/html": "<div>\n<style scoped>\n    .dataframe tbody tr th:only-of-type {\n        vertical-align: middle;\n    }\n\n    .dataframe tbody tr th {\n        vertical-align: top;\n    }\n\n    .dataframe thead th {\n        text-align: right;\n    }\n</style>\n<table border=\"1\" class=\"dataframe\">\n  <thead>\n    <tr style=\"text-align: right;\">\n      <th></th>\n      <th>politician</th>\n      <th>party</th>\n      <th>job</th>\n      <th>org_label</th>\n      <th>employmentType</th>\n      <th>remuneration</th>\n      <th>role</th>\n    </tr>\n  </thead>\n  <tbody>\n    <tr>\n      <th>0</th>\n      <td>Ada Marra</td>\n      <td>Sozialdemokratische Partei</td>\n      <td>Nationalrätin</td>\n      <td>Fondation Marie-Eléonore d'Olcah</td>\n      <td>part-time</td>\n      <td>0.00</td>\n      <td>{beirat, mitglied}</td>\n    </tr>\n    <tr>\n      <th>1</th>\n      <td>Ada Marra</td>\n      <td>Sozialdemokratische Partei</td>\n      <td>Nationalrätin</td>\n      <td>Fondation Mère Sofia</td>\n      <td>part-time</td>\n      <td>0.00</td>\n      <td>{vorstand, praesident}</td>\n    </tr>\n    <tr>\n      <th>2</th>\n      <td>Ada Marra</td>\n      <td>Sozialdemokratische Partei</td>\n      <td>Nationalrätin</td>\n      <td>Nationale Plattform zu den Sans-Papiers</td>\n      <td>part-time</td>\n      <td>0.00</td>\n      <td>{vorstand, praesident}</td>\n    </tr>\n    <tr>\n      <th>3</th>\n      <td>Ada Marra</td>\n      <td>Sozialdemokratische Partei</td>\n      <td>Nationalrätin</td>\n      <td>Sozialdemokratische Partei der Schweiz</td>\n      <td>part-time</td>\n      <td>5,000.00</td>\n      <td>{vizepraesident, geschaeftsfuehrend}</td>\n    </tr>\n    <tr>\n      <th>4</th>\n      <td>Adèle Thorens Goumaz</td>\n      <td>Grüne Partei der Schweiz</td>\n      <td>Beraterin, Erwachsenenbildnerin</td>\n      <td>Alliance suisse pour une agriculture sans géni...</td>\n      <td>part-time</td>\n      <td>0.00</td>\n      <td>{vizepraesident, vorstand}</td>\n    </tr>\n  </tbody>\n</table>\n</div>"
     },
     "metadata": {},
     "execution_count": 90
    }
   ],
   "source": [
    "client = SparqlClient()\n",
    "query = \"\"\"\n",
    "    PREFIX or: <http://openresearch.org/vocab/>\n",
    "    PREFIX rdf: <http://www.w3.org/1999/02/22-rdf-syntax-ns#>\n",
    "    PREFIX rdfs: <http://www.w3.org/2000/01/rdf-schema#>\n",
    "    PREFIX schema: <http://schema.org/>\n",
    "    PREFIX dbo: <http://dbpedia.org/ontology/>\n",
    "    PREFIX lw: <https://lod.lobbywatch.ch/>\n",
    "    PREFIX org: <http://www.w3.org/ns/org#>\n",
    "\n",
    "    SELECT DISTINCT ?politician ?party ?job ?org_label ?role ?employmentType ?remuneration\n",
    "    WHERE {\n",
    "\n",
    "        ?mep_uri a dbo:MemberOfParliament;\n",
    "               schema:memberOf ?party_uri;\n",
    "               schema:familyName ?lastName;\n",
    "               schema:givenName ?firstName.\n",
    "        OPTIONAL {\n",
    "        ?mep_uri schema:hasOccupation ?job_uri.\n",
    "        ?job_uri <http://schema.org/name> ?job.\t\n",
    "        FILTER(LANG(?job) = \"de\")\n",
    "      }\n",
    "\n",
    "        ?party_uri a dbo:PoliticalParty;  \n",
    "          schema:name ?party.\n",
    "\n",
    "        OPTIONAL{\n",
    "          ?compensation a lw:MembersInterestsCompensation;\n",
    "              <http://www.w3.org/ns/org#memberOf> ?interests;\n",
    "              <http://www.w3.org/ns/org#remuneration> ?remuneration.\n",
    "\n",
    "          ?interests a <https://lod.lobbywatch.ch/MembersInterest>;\n",
    "                   <https://lod.lobbywatch.ch/parliamentMember> ?mep_uri;\n",
    "                  <http://www.w3.org/ns/org#organization> ?org;\n",
    "                  <http://www.w3.org/ns/org#role> ?role;\n",
    "                  <https://lod.lobbywatch.ch/employmentType> ?employmentType.\n",
    "\n",
    "          ?org <http://schema.org/name> ?org_label.\n",
    "          FILTER(LANG(?org_label) = \"de\")\n",
    "        }\n",
    "\n",
    "        BIND(CONCAT(?firstName, \" \", ?lastName) AS ?politician) .        \n",
    "        FILTER(LANG(?party) = \"de\")\n",
    "    }\n",
    "    ORDER BY ?politician ?org_label\n",
    "\"\"\"\n",
    "\n",
    "df = client.send_query(query)\n",
    "df = df.groupby([\"politician\", \"party\", \"job\", \"org_label\", \"employmentType\", \"remuneration\"], dropna=False).agg(lambda x: set(x)).reset_index()\n",
    "df.head()"
   ]
  },
  {
   "cell_type": "code",
   "execution_count": 93,
   "metadata": {},
   "outputs": [
    {
     "output_type": "execute_result",
     "data": {
      "text/plain": [
       "                politician                                party  \\\n",
       "207            Ruth Humbel  Christlichdemokratische Volkspartei   \n",
       "185         Philipp Kutter  Christlichdemokratische Volkspartei   \n",
       "175        Nicolo Paganini  Christlichdemokratische Volkspartei   \n",
       "128          Lilian Studer             Evangelische Volkspartei   \n",
       "3           Alex Farinelli      Freisinnig-Demokratische Partei   \n",
       "187         Philippe Bauer      Freisinnig-Demokratische Partei   \n",
       "106      Jacques Bourgeois      Freisinnig-Demokratische Partei   \n",
       "152          Martin Schmid      Freisinnig-Demokratische Partei   \n",
       "17         Anna Giacometti      Freisinnig-Demokratische Partei   \n",
       "105  Jacqueline de Quattro      Freisinnig-Demokratische Partei   \n",
       "23           Bastien Girod             Grüne Partei der Schweiz   \n",
       "148          Martin Bäumle                  Grünliberale Partei   \n",
       "70              Erich Hess           Schweizerische Volkspartei   \n",
       "137        Marcel Dettling           Schweizerische Volkspartei   \n",
       "226        Thomas Burgherr           Schweizerische Volkspartei   \n",
       "153        Martina Bircher           Schweizerische Volkspartei   \n",
       "170         Monika Rüegger           Schweizerische Volkspartei   \n",
       "173  Nadja Umbricht Pieren           Schweizerische Volkspartei   \n",
       "51         Céline Amaudruz           Schweizerische Volkspartei   \n",
       "8              Alois Huber           Schweizerische Volkspartei   \n",
       "211      Sandra Sollberger           Schweizerische Volkspartei   \n",
       "219   Stefanie Heimgartner           Schweizerische Volkspartei   \n",
       "222      Therese Schläpfer           Schweizerische Volkspartei   \n",
       "240          Yves Nidegger           Schweizerische Volkspartei   \n",
       "\n",
       "     has_disclosed_income  \n",
       "207                 False  \n",
       "185                 False  \n",
       "175                 False  \n",
       "128                 False  \n",
       "3                   False  \n",
       "187                 False  \n",
       "106                 False  \n",
       "152                 False  \n",
       "17                  False  \n",
       "105                 False  \n",
       "23                  False  \n",
       "148                 False  \n",
       "70                  False  \n",
       "137                 False  \n",
       "226                 False  \n",
       "153                 False  \n",
       "170                 False  \n",
       "173                 False  \n",
       "51                  False  \n",
       "8                   False  \n",
       "211                 False  \n",
       "219                 False  \n",
       "222                 False  \n",
       "240                 False  "
      ],
      "text/html": "<div>\n<style scoped>\n    .dataframe tbody tr th:only-of-type {\n        vertical-align: middle;\n    }\n\n    .dataframe tbody tr th {\n        vertical-align: top;\n    }\n\n    .dataframe thead th {\n        text-align: right;\n    }\n</style>\n<table border=\"1\" class=\"dataframe\">\n  <thead>\n    <tr style=\"text-align: right;\">\n      <th></th>\n      <th>politician</th>\n      <th>party</th>\n      <th>has_disclosed_income</th>\n    </tr>\n  </thead>\n  <tbody>\n    <tr>\n      <th>207</th>\n      <td>Ruth Humbel</td>\n      <td>Christlichdemokratische Volkspartei</td>\n      <td>False</td>\n    </tr>\n    <tr>\n      <th>185</th>\n      <td>Philipp Kutter</td>\n      <td>Christlichdemokratische Volkspartei</td>\n      <td>False</td>\n    </tr>\n    <tr>\n      <th>175</th>\n      <td>Nicolo Paganini</td>\n      <td>Christlichdemokratische Volkspartei</td>\n      <td>False</td>\n    </tr>\n    <tr>\n      <th>128</th>\n      <td>Lilian Studer</td>\n      <td>Evangelische Volkspartei</td>\n      <td>False</td>\n    </tr>\n    <tr>\n      <th>3</th>\n      <td>Alex Farinelli</td>\n      <td>Freisinnig-Demokratische Partei</td>\n      <td>False</td>\n    </tr>\n    <tr>\n      <th>187</th>\n      <td>Philippe Bauer</td>\n      <td>Freisinnig-Demokratische Partei</td>\n      <td>False</td>\n    </tr>\n    <tr>\n      <th>106</th>\n      <td>Jacques Bourgeois</td>\n      <td>Freisinnig-Demokratische Partei</td>\n      <td>False</td>\n    </tr>\n    <tr>\n      <th>152</th>\n      <td>Martin Schmid</td>\n      <td>Freisinnig-Demokratische Partei</td>\n      <td>False</td>\n    </tr>\n    <tr>\n      <th>17</th>\n      <td>Anna Giacometti</td>\n      <td>Freisinnig-Demokratische Partei</td>\n      <td>False</td>\n    </tr>\n    <tr>\n      <th>105</th>\n      <td>Jacqueline de Quattro</td>\n      <td>Freisinnig-Demokratische Partei</td>\n      <td>False</td>\n    </tr>\n    <tr>\n      <th>23</th>\n      <td>Bastien Girod</td>\n      <td>Grüne Partei der Schweiz</td>\n      <td>False</td>\n    </tr>\n    <tr>\n      <th>148</th>\n      <td>Martin Bäumle</td>\n      <td>Grünliberale Partei</td>\n      <td>False</td>\n    </tr>\n    <tr>\n      <th>70</th>\n      <td>Erich Hess</td>\n      <td>Schweizerische Volkspartei</td>\n      <td>False</td>\n    </tr>\n    <tr>\n      <th>137</th>\n      <td>Marcel Dettling</td>\n      <td>Schweizerische Volkspartei</td>\n      <td>False</td>\n    </tr>\n    <tr>\n      <th>226</th>\n      <td>Thomas Burgherr</td>\n      <td>Schweizerische Volkspartei</td>\n      <td>False</td>\n    </tr>\n    <tr>\n      <th>153</th>\n      <td>Martina Bircher</td>\n      <td>Schweizerische Volkspartei</td>\n      <td>False</td>\n    </tr>\n    <tr>\n      <th>170</th>\n      <td>Monika Rüegger</td>\n      <td>Schweizerische Volkspartei</td>\n      <td>False</td>\n    </tr>\n    <tr>\n      <th>173</th>\n      <td>Nadja Umbricht Pieren</td>\n      <td>Schweizerische Volkspartei</td>\n      <td>False</td>\n    </tr>\n    <tr>\n      <th>51</th>\n      <td>Céline Amaudruz</td>\n      <td>Schweizerische Volkspartei</td>\n      <td>False</td>\n    </tr>\n    <tr>\n      <th>8</th>\n      <td>Alois Huber</td>\n      <td>Schweizerische Volkspartei</td>\n      <td>False</td>\n    </tr>\n    <tr>\n      <th>211</th>\n      <td>Sandra Sollberger</td>\n      <td>Schweizerische Volkspartei</td>\n      <td>False</td>\n    </tr>\n    <tr>\n      <th>219</th>\n      <td>Stefanie Heimgartner</td>\n      <td>Schweizerische Volkspartei</td>\n      <td>False</td>\n    </tr>\n    <tr>\n      <th>222</th>\n      <td>Therese Schläpfer</td>\n      <td>Schweizerische Volkspartei</td>\n      <td>False</td>\n    </tr>\n    <tr>\n      <th>240</th>\n      <td>Yves Nidegger</td>\n      <td>Schweizerische Volkspartei</td>\n      <td>False</td>\n    </tr>\n  </tbody>\n</table>\n</div>"
     },
     "metadata": {},
     "execution_count": 93
    }
   ],
   "source": [
    "# List of politicians that did not disclose their income\n",
    "disclosures = df[[\"politician\", \"party\", \"remuneration\"]].groupby([\"politician\", \"party\"]).agg(lambda x: len(set(x).difference(set([1, float(\"nan\")]))) != 0).reset_index().rename(columns={\"remuneration\": \"has_disclosed_income\"})\n",
    "disclosures[~disclosures[\"has_disclosed_income\"]].sort_values(by=[\"party\"])"
   ]
  },
  {
   "cell_type": "code",
   "execution_count": 94,
   "metadata": {},
   "outputs": [
    {
     "output_type": "execute_result",
     "data": {
      "text/plain": [
       "                                  party  ratio_disclosed  members  \\\n",
       "5              Evangelische Volkspartei             0.67        3   \n",
       "12           Schweizerische Volkspartei             0.80       59   \n",
       "6       Freisinnig-Demokratische Partei             0.85       40   \n",
       "3   Christlichdemokratische Volkspartei             0.92       37   \n",
       "8                   Grünliberale Partei             0.94       16   \n",
       "7              Grüne Partei der Schweiz             0.97       31   \n",
       "0             Basels starke Alternative             1.00        1   \n",
       "2                        CVP Oberwallis             1.00        1   \n",
       "4     Eidgenössisch-Demokratische Union             1.00        1   \n",
       "9                     Lega dei Ticinesi             1.00        1   \n",
       "10         Liberal-Demokratische Partei             1.00        1   \n",
       "11                    Partei der Arbeit             1.00        1   \n",
       "1       Bürgerlich-Demokratische Partei             1.00        3   \n",
       "13           Sozialdemokratische Partei             1.00       48   \n",
       "\n",
       "    nondisclosing_members  \n",
       "5                       1  \n",
       "12                     12  \n",
       "6                       6  \n",
       "3                       3  \n",
       "8                       1  \n",
       "7                       1  \n",
       "0                       0  \n",
       "2                       0  \n",
       "4                       0  \n",
       "9                       0  \n",
       "10                      0  \n",
       "11                      0  \n",
       "1                       0  \n",
       "13                      0  "
      ],
      "text/html": "<div>\n<style scoped>\n    .dataframe tbody tr th:only-of-type {\n        vertical-align: middle;\n    }\n\n    .dataframe tbody tr th {\n        vertical-align: top;\n    }\n\n    .dataframe thead th {\n        text-align: right;\n    }\n</style>\n<table border=\"1\" class=\"dataframe\">\n  <thead>\n    <tr style=\"text-align: right;\">\n      <th></th>\n      <th>party</th>\n      <th>ratio_disclosed</th>\n      <th>members</th>\n      <th>nondisclosing_members</th>\n    </tr>\n  </thead>\n  <tbody>\n    <tr>\n      <th>5</th>\n      <td>Evangelische Volkspartei</td>\n      <td>0.67</td>\n      <td>3</td>\n      <td>1</td>\n    </tr>\n    <tr>\n      <th>12</th>\n      <td>Schweizerische Volkspartei</td>\n      <td>0.80</td>\n      <td>59</td>\n      <td>12</td>\n    </tr>\n    <tr>\n      <th>6</th>\n      <td>Freisinnig-Demokratische Partei</td>\n      <td>0.85</td>\n      <td>40</td>\n      <td>6</td>\n    </tr>\n    <tr>\n      <th>3</th>\n      <td>Christlichdemokratische Volkspartei</td>\n      <td>0.92</td>\n      <td>37</td>\n      <td>3</td>\n    </tr>\n    <tr>\n      <th>8</th>\n      <td>Grünliberale Partei</td>\n      <td>0.94</td>\n      <td>16</td>\n      <td>1</td>\n    </tr>\n    <tr>\n      <th>7</th>\n      <td>Grüne Partei der Schweiz</td>\n      <td>0.97</td>\n      <td>31</td>\n      <td>1</td>\n    </tr>\n    <tr>\n      <th>0</th>\n      <td>Basels starke Alternative</td>\n      <td>1.00</td>\n      <td>1</td>\n      <td>0</td>\n    </tr>\n    <tr>\n      <th>2</th>\n      <td>CVP Oberwallis</td>\n      <td>1.00</td>\n      <td>1</td>\n      <td>0</td>\n    </tr>\n    <tr>\n      <th>4</th>\n      <td>Eidgenössisch-Demokratische Union</td>\n      <td>1.00</td>\n      <td>1</td>\n      <td>0</td>\n    </tr>\n    <tr>\n      <th>9</th>\n      <td>Lega dei Ticinesi</td>\n      <td>1.00</td>\n      <td>1</td>\n      <td>0</td>\n    </tr>\n    <tr>\n      <th>10</th>\n      <td>Liberal-Demokratische Partei</td>\n      <td>1.00</td>\n      <td>1</td>\n      <td>0</td>\n    </tr>\n    <tr>\n      <th>11</th>\n      <td>Partei der Arbeit</td>\n      <td>1.00</td>\n      <td>1</td>\n      <td>0</td>\n    </tr>\n    <tr>\n      <th>1</th>\n      <td>Bürgerlich-Demokratische Partei</td>\n      <td>1.00</td>\n      <td>3</td>\n      <td>0</td>\n    </tr>\n    <tr>\n      <th>13</th>\n      <td>Sozialdemokratische Partei</td>\n      <td>1.00</td>\n      <td>48</td>\n      <td>0</td>\n    </tr>\n  </tbody>\n</table>\n</div>"
     },
     "metadata": {},
     "execution_count": 94
    }
   ],
   "source": [
    "shame_table = disclosures.drop(columns = \"politician\").groupby([\"party\"]).agg([np.mean, len, lambda x: len(x) - sum(x)]).reset_index()\n",
    "shame_table.columns = [\"party\", \"ratio_disclosed\", \"members\", \"nondisclosing_members\"]\n",
    "shame_table = shame_table.sort_values(by=[\"ratio_disclosed\", \"members\"])\n",
    "\n",
    "shame_table"
   ]
  },
  {
   "cell_type": "code",
   "execution_count": 95,
   "metadata": {},
   "outputs": [
    {
     "output_type": "display_data",
     "data": {
      "application/vnd.plotly.v1+json": {
       "config": {
        "plotlyServerURL": "https://plot.ly"
       },
       "data": [
        {
         "alignmentgroup": "True",
         "customdata": [
          [
           3,
           1
          ],
          [
           59,
           12
          ],
          [
           40,
           6
          ],
          [
           37,
           3
          ],
          [
           16,
           1
          ],
          [
           31,
           1
          ],
          [
           1,
           0
          ],
          [
           1,
           0
          ],
          [
           1,
           0
          ],
          [
           1,
           0
          ],
          [
           1,
           0
          ],
          [
           1,
           0
          ],
          [
           3,
           0
          ],
          [
           48,
           0
          ]
         ],
         "hovertemplate": "ratio_disclosed=%{x}<br>party=%{y}<br>members=%{customdata[0]}<br>nondisclosing_members=%{customdata[1]}<extra></extra>",
         "legendgroup": "",
         "marker": {
          "color": "#636efa"
         },
         "name": "",
         "offsetgroup": "",
         "orientation": "h",
         "showlegend": false,
         "textposition": "auto",
         "type": "bar",
         "x": [
          0.6666666666666666,
          0.7966101694915254,
          0.85,
          0.918918918918919,
          0.9375,
          0.967741935483871,
          1,
          1,
          1,
          1,
          1,
          1,
          1,
          1
         ],
         "xaxis": "x",
         "y": [
          "Evangelische Volkspartei",
          "Schweizerische Volkspartei",
          "Freisinnig-Demokratische Partei",
          "Christlichdemokratische Volkspartei",
          "Grünliberale Partei",
          "Grüne Partei der Schweiz",
          "Basels starke Alternative",
          "CVP Oberwallis",
          "Eidgenössisch-Demokratische Union",
          "Lega dei Ticinesi",
          "Liberal-Demokratische Partei",
          "Partei der Arbeit",
          "Bürgerlich-Demokratische Partei",
          "Sozialdemokratische Partei"
         ],
         "yaxis": "y"
        }
       ],
       "layout": {
        "barmode": "relative",
        "legend": {
         "tracegroupgap": 0
        },
        "margin": {
         "t": 60
        },
        "template": {
         "data": {
          "bar": [
           {
            "error_x": {
             "color": "#2a3f5f"
            },
            "error_y": {
             "color": "#2a3f5f"
            },
            "marker": {
             "line": {
              "color": "#E5ECF6",
              "width": 0.5
             }
            },
            "type": "bar"
           }
          ],
          "barpolar": [
           {
            "marker": {
             "line": {
              "color": "#E5ECF6",
              "width": 0.5
             }
            },
            "type": "barpolar"
           }
          ],
          "carpet": [
           {
            "aaxis": {
             "endlinecolor": "#2a3f5f",
             "gridcolor": "white",
             "linecolor": "white",
             "minorgridcolor": "white",
             "startlinecolor": "#2a3f5f"
            },
            "baxis": {
             "endlinecolor": "#2a3f5f",
             "gridcolor": "white",
             "linecolor": "white",
             "minorgridcolor": "white",
             "startlinecolor": "#2a3f5f"
            },
            "type": "carpet"
           }
          ],
          "choropleth": [
           {
            "colorbar": {
             "outlinewidth": 0,
             "ticks": ""
            },
            "type": "choropleth"
           }
          ],
          "contour": [
           {
            "colorbar": {
             "outlinewidth": 0,
             "ticks": ""
            },
            "colorscale": [
             [
              0,
              "#0d0887"
             ],
             [
              0.1111111111111111,
              "#46039f"
             ],
             [
              0.2222222222222222,
              "#7201a8"
             ],
             [
              0.3333333333333333,
              "#9c179e"
             ],
             [
              0.4444444444444444,
              "#bd3786"
             ],
             [
              0.5555555555555556,
              "#d8576b"
             ],
             [
              0.6666666666666666,
              "#ed7953"
             ],
             [
              0.7777777777777778,
              "#fb9f3a"
             ],
             [
              0.8888888888888888,
              "#fdca26"
             ],
             [
              1,
              "#f0f921"
             ]
            ],
            "type": "contour"
           }
          ],
          "contourcarpet": [
           {
            "colorbar": {
             "outlinewidth": 0,
             "ticks": ""
            },
            "type": "contourcarpet"
           }
          ],
          "heatmap": [
           {
            "colorbar": {
             "outlinewidth": 0,
             "ticks": ""
            },
            "colorscale": [
             [
              0,
              "#0d0887"
             ],
             [
              0.1111111111111111,
              "#46039f"
             ],
             [
              0.2222222222222222,
              "#7201a8"
             ],
             [
              0.3333333333333333,
              "#9c179e"
             ],
             [
              0.4444444444444444,
              "#bd3786"
             ],
             [
              0.5555555555555556,
              "#d8576b"
             ],
             [
              0.6666666666666666,
              "#ed7953"
             ],
             [
              0.7777777777777778,
              "#fb9f3a"
             ],
             [
              0.8888888888888888,
              "#fdca26"
             ],
             [
              1,
              "#f0f921"
             ]
            ],
            "type": "heatmap"
           }
          ],
          "heatmapgl": [
           {
            "colorbar": {
             "outlinewidth": 0,
             "ticks": ""
            },
            "colorscale": [
             [
              0,
              "#0d0887"
             ],
             [
              0.1111111111111111,
              "#46039f"
             ],
             [
              0.2222222222222222,
              "#7201a8"
             ],
             [
              0.3333333333333333,
              "#9c179e"
             ],
             [
              0.4444444444444444,
              "#bd3786"
             ],
             [
              0.5555555555555556,
              "#d8576b"
             ],
             [
              0.6666666666666666,
              "#ed7953"
             ],
             [
              0.7777777777777778,
              "#fb9f3a"
             ],
             [
              0.8888888888888888,
              "#fdca26"
             ],
             [
              1,
              "#f0f921"
             ]
            ],
            "type": "heatmapgl"
           }
          ],
          "histogram": [
           {
            "marker": {
             "colorbar": {
              "outlinewidth": 0,
              "ticks": ""
             }
            },
            "type": "histogram"
           }
          ],
          "histogram2d": [
           {
            "colorbar": {
             "outlinewidth": 0,
             "ticks": ""
            },
            "colorscale": [
             [
              0,
              "#0d0887"
             ],
             [
              0.1111111111111111,
              "#46039f"
             ],
             [
              0.2222222222222222,
              "#7201a8"
             ],
             [
              0.3333333333333333,
              "#9c179e"
             ],
             [
              0.4444444444444444,
              "#bd3786"
             ],
             [
              0.5555555555555556,
              "#d8576b"
             ],
             [
              0.6666666666666666,
              "#ed7953"
             ],
             [
              0.7777777777777778,
              "#fb9f3a"
             ],
             [
              0.8888888888888888,
              "#fdca26"
             ],
             [
              1,
              "#f0f921"
             ]
            ],
            "type": "histogram2d"
           }
          ],
          "histogram2dcontour": [
           {
            "colorbar": {
             "outlinewidth": 0,
             "ticks": ""
            },
            "colorscale": [
             [
              0,
              "#0d0887"
             ],
             [
              0.1111111111111111,
              "#46039f"
             ],
             [
              0.2222222222222222,
              "#7201a8"
             ],
             [
              0.3333333333333333,
              "#9c179e"
             ],
             [
              0.4444444444444444,
              "#bd3786"
             ],
             [
              0.5555555555555556,
              "#d8576b"
             ],
             [
              0.6666666666666666,
              "#ed7953"
             ],
             [
              0.7777777777777778,
              "#fb9f3a"
             ],
             [
              0.8888888888888888,
              "#fdca26"
             ],
             [
              1,
              "#f0f921"
             ]
            ],
            "type": "histogram2dcontour"
           }
          ],
          "mesh3d": [
           {
            "colorbar": {
             "outlinewidth": 0,
             "ticks": ""
            },
            "type": "mesh3d"
           }
          ],
          "parcoords": [
           {
            "line": {
             "colorbar": {
              "outlinewidth": 0,
              "ticks": ""
             }
            },
            "type": "parcoords"
           }
          ],
          "pie": [
           {
            "automargin": true,
            "type": "pie"
           }
          ],
          "scatter": [
           {
            "marker": {
             "colorbar": {
              "outlinewidth": 0,
              "ticks": ""
             }
            },
            "type": "scatter"
           }
          ],
          "scatter3d": [
           {
            "line": {
             "colorbar": {
              "outlinewidth": 0,
              "ticks": ""
             }
            },
            "marker": {
             "colorbar": {
              "outlinewidth": 0,
              "ticks": ""
             }
            },
            "type": "scatter3d"
           }
          ],
          "scattercarpet": [
           {
            "marker": {
             "colorbar": {
              "outlinewidth": 0,
              "ticks": ""
             }
            },
            "type": "scattercarpet"
           }
          ],
          "scattergeo": [
           {
            "marker": {
             "colorbar": {
              "outlinewidth": 0,
              "ticks": ""
             }
            },
            "type": "scattergeo"
           }
          ],
          "scattergl": [
           {
            "marker": {
             "colorbar": {
              "outlinewidth": 0,
              "ticks": ""
             }
            },
            "type": "scattergl"
           }
          ],
          "scattermapbox": [
           {
            "marker": {
             "colorbar": {
              "outlinewidth": 0,
              "ticks": ""
             }
            },
            "type": "scattermapbox"
           }
          ],
          "scatterpolar": [
           {
            "marker": {
             "colorbar": {
              "outlinewidth": 0,
              "ticks": ""
             }
            },
            "type": "scatterpolar"
           }
          ],
          "scatterpolargl": [
           {
            "marker": {
             "colorbar": {
              "outlinewidth": 0,
              "ticks": ""
             }
            },
            "type": "scatterpolargl"
           }
          ],
          "scatterternary": [
           {
            "marker": {
             "colorbar": {
              "outlinewidth": 0,
              "ticks": ""
             }
            },
            "type": "scatterternary"
           }
          ],
          "surface": [
           {
            "colorbar": {
             "outlinewidth": 0,
             "ticks": ""
            },
            "colorscale": [
             [
              0,
              "#0d0887"
             ],
             [
              0.1111111111111111,
              "#46039f"
             ],
             [
              0.2222222222222222,
              "#7201a8"
             ],
             [
              0.3333333333333333,
              "#9c179e"
             ],
             [
              0.4444444444444444,
              "#bd3786"
             ],
             [
              0.5555555555555556,
              "#d8576b"
             ],
             [
              0.6666666666666666,
              "#ed7953"
             ],
             [
              0.7777777777777778,
              "#fb9f3a"
             ],
             [
              0.8888888888888888,
              "#fdca26"
             ],
             [
              1,
              "#f0f921"
             ]
            ],
            "type": "surface"
           }
          ],
          "table": [
           {
            "cells": {
             "fill": {
              "color": "#EBF0F8"
             },
             "line": {
              "color": "white"
             }
            },
            "header": {
             "fill": {
              "color": "#C8D4E3"
             },
             "line": {
              "color": "white"
             }
            },
            "type": "table"
           }
          ]
         },
         "layout": {
          "annotationdefaults": {
           "arrowcolor": "#2a3f5f",
           "arrowhead": 0,
           "arrowwidth": 1
          },
          "coloraxis": {
           "colorbar": {
            "outlinewidth": 0,
            "ticks": ""
           }
          },
          "colorscale": {
           "diverging": [
            [
             0,
             "#8e0152"
            ],
            [
             0.1,
             "#c51b7d"
            ],
            [
             0.2,
             "#de77ae"
            ],
            [
             0.3,
             "#f1b6da"
            ],
            [
             0.4,
             "#fde0ef"
            ],
            [
             0.5,
             "#f7f7f7"
            ],
            [
             0.6,
             "#e6f5d0"
            ],
            [
             0.7,
             "#b8e186"
            ],
            [
             0.8,
             "#7fbc41"
            ],
            [
             0.9,
             "#4d9221"
            ],
            [
             1,
             "#276419"
            ]
           ],
           "sequential": [
            [
             0,
             "#0d0887"
            ],
            [
             0.1111111111111111,
             "#46039f"
            ],
            [
             0.2222222222222222,
             "#7201a8"
            ],
            [
             0.3333333333333333,
             "#9c179e"
            ],
            [
             0.4444444444444444,
             "#bd3786"
            ],
            [
             0.5555555555555556,
             "#d8576b"
            ],
            [
             0.6666666666666666,
             "#ed7953"
            ],
            [
             0.7777777777777778,
             "#fb9f3a"
            ],
            [
             0.8888888888888888,
             "#fdca26"
            ],
            [
             1,
             "#f0f921"
            ]
           ],
           "sequentialminus": [
            [
             0,
             "#0d0887"
            ],
            [
             0.1111111111111111,
             "#46039f"
            ],
            [
             0.2222222222222222,
             "#7201a8"
            ],
            [
             0.3333333333333333,
             "#9c179e"
            ],
            [
             0.4444444444444444,
             "#bd3786"
            ],
            [
             0.5555555555555556,
             "#d8576b"
            ],
            [
             0.6666666666666666,
             "#ed7953"
            ],
            [
             0.7777777777777778,
             "#fb9f3a"
            ],
            [
             0.8888888888888888,
             "#fdca26"
            ],
            [
             1,
             "#f0f921"
            ]
           ]
          },
          "colorway": [
           "#636efa",
           "#EF553B",
           "#00cc96",
           "#ab63fa",
           "#FFA15A",
           "#19d3f3",
           "#FF6692",
           "#B6E880",
           "#FF97FF",
           "#FECB52"
          ],
          "font": {
           "color": "#2a3f5f"
          },
          "geo": {
           "bgcolor": "white",
           "lakecolor": "white",
           "landcolor": "#E5ECF6",
           "showlakes": true,
           "showland": true,
           "subunitcolor": "white"
          },
          "hoverlabel": {
           "align": "left"
          },
          "hovermode": "closest",
          "mapbox": {
           "style": "light"
          },
          "paper_bgcolor": "white",
          "plot_bgcolor": "#E5ECF6",
          "polar": {
           "angularaxis": {
            "gridcolor": "white",
            "linecolor": "white",
            "ticks": ""
           },
           "bgcolor": "#E5ECF6",
           "radialaxis": {
            "gridcolor": "white",
            "linecolor": "white",
            "ticks": ""
           }
          },
          "scene": {
           "xaxis": {
            "backgroundcolor": "#E5ECF6",
            "gridcolor": "white",
            "gridwidth": 2,
            "linecolor": "white",
            "showbackground": true,
            "ticks": "",
            "zerolinecolor": "white"
           },
           "yaxis": {
            "backgroundcolor": "#E5ECF6",
            "gridcolor": "white",
            "gridwidth": 2,
            "linecolor": "white",
            "showbackground": true,
            "ticks": "",
            "zerolinecolor": "white"
           },
           "zaxis": {
            "backgroundcolor": "#E5ECF6",
            "gridcolor": "white",
            "gridwidth": 2,
            "linecolor": "white",
            "showbackground": true,
            "ticks": "",
            "zerolinecolor": "white"
           }
          },
          "shapedefaults": {
           "line": {
            "color": "#2a3f5f"
           }
          },
          "ternary": {
           "aaxis": {
            "gridcolor": "white",
            "linecolor": "white",
            "ticks": ""
           },
           "baxis": {
            "gridcolor": "white",
            "linecolor": "white",
            "ticks": ""
           },
           "bgcolor": "#E5ECF6",
           "caxis": {
            "gridcolor": "white",
            "linecolor": "white",
            "ticks": ""
           }
          },
          "title": {
           "x": 0.05
          },
          "xaxis": {
           "automargin": true,
           "gridcolor": "white",
           "linecolor": "white",
           "ticks": "",
           "title": {
            "standoff": 15
           },
           "zerolinecolor": "white",
           "zerolinewidth": 2
          },
          "yaxis": {
           "automargin": true,
           "gridcolor": "white",
           "linecolor": "white",
           "ticks": "",
           "title": {
            "standoff": 15
           },
           "zerolinecolor": "white",
           "zerolinewidth": 2
          }
         }
        },
        "xaxis": {
         "anchor": "y",
         "domain": [
          0,
          1
         ],
         "title": {
          "text": "ratio_disclosed"
         }
        },
        "yaxis": {
         "anchor": "x",
         "domain": [
          0,
          1
         ],
         "title": {
          "text": "party"
         }
        }
       }
      }
     },
     "metadata": {}
    }
   ],
   "source": [
    "\n",
    "fig = px.bar(shame_table, x=\"ratio_disclosed\", y=\"party\", hover_data=[\"members\", \"nondisclosing_members\"], orientation='h')\n",
    "fig.show()"
   ]
  },
  {
   "cell_type": "code",
   "execution_count": 115,
   "metadata": {},
   "outputs": [],
   "source": [
    "query = \"\"\"\n",
    "    PREFIX schema: <http://schema.org/>\n",
    "    PREFIX dbo: <http://dbpedia.org/ontology/>\n",
    "    PREFIX lw: <https://lod.lobbywatch.ch/>\n",
    "    PREFIX org: <http://www.w3.org/ns/org#>\n",
    "    PREFIX skos: <http://www.w3.org/2004/02/skos/core#>\n",
    "\n",
    "    SELECT ?politician ?party ?org ?org_uri ?org_id\n",
    "    WHERE {\n",
    "\n",
    "      ?mep a dbo:MemberOfParliament;\n",
    "          schema:memberOf ?party_uri;\n",
    "          schema:familyName ?lastName;\n",
    "          schema:givenName ?firstName.\n",
    "\n",
    "      BIND(CONCAT(?firstName, \" \", ?lastName) AS ?politician) .\n",
    "\n",
    "      ?party_uri a dbo:PoliticalParty;\n",
    "                 skos:altLabel ?party.\n",
    "\n",
    "      ?interests a lw:MembersInterest;\n",
    "        org:organization ?org_uri;\n",
    "        lw:parliamentMember ?mep.\n",
    "\n",
    "      OPTIONAL{\n",
    "        ?org_uri <http://www.w3.org/ns/org#identifier> ?org_id\n",
    "      }\n",
    "      ?org_uri schema:name ?org.\n",
    "\n",
    "      FILTER(LANG(?org) = \"de\")\n",
    "      FILTER(LANG(?party) = \"de\")\n",
    "    }\n",
    "    ORDER BY ?politician\n",
    "\"\"\"\n",
    "\n",
    "direct_influence = client.send_query(query)"
   ]
  },
  {
   "cell_type": "code",
   "execution_count": 121,
   "metadata": {},
   "outputs": [],
   "source": [
    "query = \"\"\"\n",
    "    PREFIX schema: <http://schema.org/>\n",
    "    PREFIX dbo: <http://dbpedia.org/ontology/>\n",
    "    PREFIX lw: <https://lod.lobbywatch.ch/>\n",
    "    PREFIX org: <http://www.w3.org/ns/org#>\n",
    "    PREFIX skos: <http://www.w3.org/2004/02/skos/core#>\n",
    "\n",
    "    SELECT ?politician ?party ?org ?org_uri ?org_id\n",
    "    WHERE {\n",
    "\n",
    "      ?mep a dbo:MemberOfParliament;\n",
    "          schema:memberOf ?party_uri;\n",
    "          schema:familyName ?lastName;\n",
    "          schema:givenName ?firstName.\n",
    "\n",
    "      BIND(CONCAT(?firstName, \" \", ?lastName) AS ?politician) .\n",
    "\n",
    "      ?party_uri a dbo:PoliticalParty;\n",
    "                 skos:altLabel ?party.\n",
    "\n",
    "      ?access a lw:AccessRight;\n",
    "          lw:issuedBy ?mep;\n",
    "          lw:issuedTo ?person.\n",
    "      ?person org:hasMembership ?membership .\n",
    "      ?membership org:organization ?org_uri.\n",
    "      ?org_uri schema:name ?org.\n",
    "\n",
    "      OPTIONAL{\n",
    "        ?org_uri <http://www.w3.org/ns/org#identifier> ?org_id.\n",
    "      }\n",
    "\n",
    "      FILTER(LANG(?org) = \"de\")\n",
    "      FILTER(LANG(?party) = \"de\")\n",
    "    }\n",
    "    ORDER BY ?politician\n",
    "\"\"\"\n",
    "\n",
    "indirect_influence = client.send_query(query)"
   ]
  },
  {
   "cell_type": "code",
   "execution_count": 123,
   "metadata": {},
   "outputs": [],
   "source": [
    "all_influences = pd.concat([direct_influence, indirect_influence])"
   ]
  },
  {
   "cell_type": "code",
   "execution_count": 151,
   "metadata": {},
   "outputs": [
    {
     "output_type": "execute_result",
     "data": {
      "text/plain": [
       "                                                    org  \\\n",
       "1892                                              Sport   \n",
       "2359                            Wohn- und Grundeigentum   \n",
       "223                       Biodiversität und Artenschutz   \n",
       "217                   Bildung, Forschung und Innovation   \n",
       "252                                     Bundeshaus-Band   \n",
       "152                                    Auslandschweizer   \n",
       "810   Gruppa parlamentara \"lingua e cultura rumantscha\"   \n",
       "2356  Wirtschafts- und währungspolitischer Arbeitskreis   \n",
       "1554                                        Rotes Kreuz   \n",
       "479                                Erneuerbare Energien   \n",
       "88                                               Arbeit   \n",
       "196                                     Bergbevölkerung   \n",
       "214                                              Bienen   \n",
       "1419                              Pfadibewegung Schweiz   \n",
       "1541                             Rock/Pop im Bundeshaus   \n",
       "1127                                             Kultur   \n",
       "1237                                Mehrsprachigkeit CH   \n",
       "976                                        Inlandbanken   \n",
       "2062                 Suisse - Solidarité internationale   \n",
       "2137                                      Tourismus PGT   \n",
       "\n",
       "                                          org_uri  influenced_politicians  \n",
       "1892  https://lod.lobbywatch.ch/organisation/1751                     140  \n",
       "2359  https://lod.lobbywatch.ch/organisation/2899                      92  \n",
       "223    https://lod.lobbywatch.ch/organisation/637                      89  \n",
       "217   https://lod.lobbywatch.ch/organisation/2124                      88  \n",
       "252   https://lod.lobbywatch.ch/organisation/1750                      81  \n",
       "152   https://lod.lobbywatch.ch/organisation/1278                      79  \n",
       "810   https://lod.lobbywatch.ch/organisation/5964                      78  \n",
       "2356  https://lod.lobbywatch.ch/organisation/5978                      65  \n",
       "1554  https://lod.lobbywatch.ch/organisation/5024                      61  \n",
       "479   https://lod.lobbywatch.ch/organisation/1505                      58  \n",
       "88    https://lod.lobbywatch.ch/organisation/4983                      57  \n",
       "196   https://lod.lobbywatch.ch/organisation/2020                      53  \n",
       "214   https://lod.lobbywatch.ch/organisation/6354                      52  \n",
       "1419  https://lod.lobbywatch.ch/organisation/2415                      50  \n",
       "1541  https://lod.lobbywatch.ch/organisation/2793                      50  \n",
       "1127  https://lod.lobbywatch.ch/organisation/1858                      49  \n",
       "1237  https://lod.lobbywatch.ch/organisation/2855                      44  \n",
       "976    https://lod.lobbywatch.ch/organisation/459                      44  \n",
       "2062  https://lod.lobbywatch.ch/organisation/3500                      42  \n",
       "2137  https://lod.lobbywatch.ch/organisation/1622                      42  "
      ],
      "text/html": "<div>\n<style scoped>\n    .dataframe tbody tr th:only-of-type {\n        vertical-align: middle;\n    }\n\n    .dataframe tbody tr th {\n        vertical-align: top;\n    }\n\n    .dataframe thead th {\n        text-align: right;\n    }\n</style>\n<table border=\"1\" class=\"dataframe\">\n  <thead>\n    <tr style=\"text-align: right;\">\n      <th></th>\n      <th>org</th>\n      <th>org_uri</th>\n      <th>influenced_politicians</th>\n    </tr>\n  </thead>\n  <tbody>\n    <tr>\n      <th>1892</th>\n      <td>Sport</td>\n      <td>https://lod.lobbywatch.ch/organisation/1751</td>\n      <td>140</td>\n    </tr>\n    <tr>\n      <th>2359</th>\n      <td>Wohn- und Grundeigentum</td>\n      <td>https://lod.lobbywatch.ch/organisation/2899</td>\n      <td>92</td>\n    </tr>\n    <tr>\n      <th>223</th>\n      <td>Biodiversität und Artenschutz</td>\n      <td>https://lod.lobbywatch.ch/organisation/637</td>\n      <td>89</td>\n    </tr>\n    <tr>\n      <th>217</th>\n      <td>Bildung, Forschung und Innovation</td>\n      <td>https://lod.lobbywatch.ch/organisation/2124</td>\n      <td>88</td>\n    </tr>\n    <tr>\n      <th>252</th>\n      <td>Bundeshaus-Band</td>\n      <td>https://lod.lobbywatch.ch/organisation/1750</td>\n      <td>81</td>\n    </tr>\n    <tr>\n      <th>152</th>\n      <td>Auslandschweizer</td>\n      <td>https://lod.lobbywatch.ch/organisation/1278</td>\n      <td>79</td>\n    </tr>\n    <tr>\n      <th>810</th>\n      <td>Gruppa parlamentara \"lingua e cultura rumantscha\"</td>\n      <td>https://lod.lobbywatch.ch/organisation/5964</td>\n      <td>78</td>\n    </tr>\n    <tr>\n      <th>2356</th>\n      <td>Wirtschafts- und währungspolitischer Arbeitskreis</td>\n      <td>https://lod.lobbywatch.ch/organisation/5978</td>\n      <td>65</td>\n    </tr>\n    <tr>\n      <th>1554</th>\n      <td>Rotes Kreuz</td>\n      <td>https://lod.lobbywatch.ch/organisation/5024</td>\n      <td>61</td>\n    </tr>\n    <tr>\n      <th>479</th>\n      <td>Erneuerbare Energien</td>\n      <td>https://lod.lobbywatch.ch/organisation/1505</td>\n      <td>58</td>\n    </tr>\n    <tr>\n      <th>88</th>\n      <td>Arbeit</td>\n      <td>https://lod.lobbywatch.ch/organisation/4983</td>\n      <td>57</td>\n    </tr>\n    <tr>\n      <th>196</th>\n      <td>Bergbevölkerung</td>\n      <td>https://lod.lobbywatch.ch/organisation/2020</td>\n      <td>53</td>\n    </tr>\n    <tr>\n      <th>214</th>\n      <td>Bienen</td>\n      <td>https://lod.lobbywatch.ch/organisation/6354</td>\n      <td>52</td>\n    </tr>\n    <tr>\n      <th>1419</th>\n      <td>Pfadibewegung Schweiz</td>\n      <td>https://lod.lobbywatch.ch/organisation/2415</td>\n      <td>50</td>\n    </tr>\n    <tr>\n      <th>1541</th>\n      <td>Rock/Pop im Bundeshaus</td>\n      <td>https://lod.lobbywatch.ch/organisation/2793</td>\n      <td>50</td>\n    </tr>\n    <tr>\n      <th>1127</th>\n      <td>Kultur</td>\n      <td>https://lod.lobbywatch.ch/organisation/1858</td>\n      <td>49</td>\n    </tr>\n    <tr>\n      <th>1237</th>\n      <td>Mehrsprachigkeit CH</td>\n      <td>https://lod.lobbywatch.ch/organisation/2855</td>\n      <td>44</td>\n    </tr>\n    <tr>\n      <th>976</th>\n      <td>Inlandbanken</td>\n      <td>https://lod.lobbywatch.ch/organisation/459</td>\n      <td>44</td>\n    </tr>\n    <tr>\n      <th>2062</th>\n      <td>Suisse - Solidarité internationale</td>\n      <td>https://lod.lobbywatch.ch/organisation/3500</td>\n      <td>42</td>\n    </tr>\n    <tr>\n      <th>2137</th>\n      <td>Tourismus PGT</td>\n      <td>https://lod.lobbywatch.ch/organisation/1622</td>\n      <td>42</td>\n    </tr>\n  </tbody>\n</table>\n</div>"
     },
     "metadata": {},
     "execution_count": 151
    }
   ],
   "source": [
    "df = direct_influence #all_influences, direct_influence, indirect_influence\n",
    "\n",
    "orgs_influence = df[[\"org\", \"org_uri\", \"politician\"]].groupby([\"org\", \"org_uri\"], dropna=False).count().reset_index().sort_values(by=[\"politician\"], ascending=False)\n",
    "orgs_influence.columns = [\"org\", \"org_uri\", \"influenced_politicians\"]\n",
    "orgs_influence[0:20]"
   ]
  },
  {
   "cell_type": "code",
   "execution_count": 152,
   "metadata": {},
   "outputs": [
    {
     "output_type": "execute_result",
     "data": {
      "text/plain": [
       "   party  politician\n",
       "13   SVP          59\n",
       "12    SP          48\n",
       "6    FDP          40\n",
       "2    CVP          37\n",
       "8    GPS          31\n",
       "7    GLP          16"
      ],
      "text/html": "<div>\n<style scoped>\n    .dataframe tbody tr th:only-of-type {\n        vertical-align: middle;\n    }\n\n    .dataframe tbody tr th {\n        vertical-align: top;\n    }\n\n    .dataframe thead th {\n        text-align: right;\n    }\n</style>\n<table border=\"1\" class=\"dataframe\">\n  <thead>\n    <tr style=\"text-align: right;\">\n      <th></th>\n      <th>party</th>\n      <th>politician</th>\n    </tr>\n  </thead>\n  <tbody>\n    <tr>\n      <th>13</th>\n      <td>SVP</td>\n      <td>59</td>\n    </tr>\n    <tr>\n      <th>12</th>\n      <td>SP</td>\n      <td>48</td>\n    </tr>\n    <tr>\n      <th>6</th>\n      <td>FDP</td>\n      <td>40</td>\n    </tr>\n    <tr>\n      <th>2</th>\n      <td>CVP</td>\n      <td>37</td>\n    </tr>\n    <tr>\n      <th>8</th>\n      <td>GPS</td>\n      <td>31</td>\n    </tr>\n    <tr>\n      <th>7</th>\n      <td>GLP</td>\n      <td>16</td>\n    </tr>\n  </tbody>\n</table>\n</div>"
     },
     "metadata": {},
     "execution_count": 152
    }
   ],
   "source": [
    "# Number of members in each party:\n",
    "parties = direct_influence[[\"politician\", \"party\"]].drop_duplicates().groupby(\"party\").count().reset_index().sort_values(by=\"politician\", ascending = False)\n",
    "parties[parties[\"politician\"] > 5]"
   ]
  },
  {
   "cell_type": "code",
   "execution_count": 153,
   "metadata": {},
   "outputs": [],
   "source": [
    "relevant_parties = list(parties[parties[\"politician\"] > 5][\"party\"])"
   ]
  },
  {
   "cell_type": "code",
   "execution_count": 154,
   "metadata": {},
   "outputs": [
    {
     "output_type": "execute_result",
     "data": {
      "text/plain": [
       "                politician party                                         org\n",
       "0     Adèle Thorens Goumaz   GPS                          Greenpeace Schweiz\n",
       "1     Adèle Thorens Goumaz   GPS                                Agrarallianz\n",
       "2     Adèle Thorens Goumaz   GPS                                 WWF Schweiz\n",
       "3             Albert Rösti   SVP         Berner Bauern Verband Management AG\n",
       "4             Albert Rösti   SVP                                 Kanton Bern\n",
       "...                    ...   ...                                         ...\n",
       "1548           Yvonne Feri    SP                                  IV-Allianz\n",
       "1549           Yvonne Feri    SP  Schweizerischer Musikpädagogischer Verband\n",
       "1550           Yvonne Feri    SP                Allianz Ergänzungsleistungen\n",
       "1551           Yvonne Feri    SP                          Inclusion Handicap\n",
       "1552           Yvonne Feri    SP                          Inclusion Handicap\n",
       "\n",
       "[1553 rows x 3 columns]"
      ],
      "text/html": "<div>\n<style scoped>\n    .dataframe tbody tr th:only-of-type {\n        vertical-align: middle;\n    }\n\n    .dataframe tbody tr th {\n        vertical-align: top;\n    }\n\n    .dataframe thead th {\n        text-align: right;\n    }\n</style>\n<table border=\"1\" class=\"dataframe\">\n  <thead>\n    <tr style=\"text-align: right;\">\n      <th></th>\n      <th>politician</th>\n      <th>party</th>\n      <th>org</th>\n    </tr>\n  </thead>\n  <tbody>\n    <tr>\n      <th>0</th>\n      <td>Adèle Thorens Goumaz</td>\n      <td>GPS</td>\n      <td>Greenpeace Schweiz</td>\n    </tr>\n    <tr>\n      <th>1</th>\n      <td>Adèle Thorens Goumaz</td>\n      <td>GPS</td>\n      <td>Agrarallianz</td>\n    </tr>\n    <tr>\n      <th>2</th>\n      <td>Adèle Thorens Goumaz</td>\n      <td>GPS</td>\n      <td>WWF Schweiz</td>\n    </tr>\n    <tr>\n      <th>3</th>\n      <td>Albert Rösti</td>\n      <td>SVP</td>\n      <td>Berner Bauern Verband Management AG</td>\n    </tr>\n    <tr>\n      <th>4</th>\n      <td>Albert Rösti</td>\n      <td>SVP</td>\n      <td>Kanton Bern</td>\n    </tr>\n    <tr>\n      <th>...</th>\n      <td>...</td>\n      <td>...</td>\n      <td>...</td>\n    </tr>\n    <tr>\n      <th>1548</th>\n      <td>Yvonne Feri</td>\n      <td>SP</td>\n      <td>IV-Allianz</td>\n    </tr>\n    <tr>\n      <th>1549</th>\n      <td>Yvonne Feri</td>\n      <td>SP</td>\n      <td>Schweizerischer Musikpädagogischer Verband</td>\n    </tr>\n    <tr>\n      <th>1550</th>\n      <td>Yvonne Feri</td>\n      <td>SP</td>\n      <td>Allianz Ergänzungsleistungen</td>\n    </tr>\n    <tr>\n      <th>1551</th>\n      <td>Yvonne Feri</td>\n      <td>SP</td>\n      <td>Inclusion Handicap</td>\n    </tr>\n    <tr>\n      <th>1552</th>\n      <td>Yvonne Feri</td>\n      <td>SP</td>\n      <td>Inclusion Handicap</td>\n    </tr>\n  </tbody>\n</table>\n<p>1553 rows × 3 columns</p>\n</div>"
     },
     "metadata": {},
     "execution_count": 154
    }
   ],
   "source": [
    "indirect_influence[[\"politician\",\"party\", \"org\"]]"
   ]
  },
  {
   "cell_type": "code",
   "execution_count": 155,
   "metadata": {},
   "outputs": [
    {
     "output_type": "execute_result",
     "data": {
      "text/plain": [
       "party                                               total  SVP   SP  FDP  CVP  \\\n",
       "org                                                                             \n",
       "economiesuisse                                          5 0.20 0.00 0.40 0.20   \n",
       "furrerhugi.ag                                           5 0.00 0.20 0.40 0.20   \n",
       "Bündnis Freiheitliches Gesundheitswesen                 5 0.80 0.00 0.00 0.00   \n",
       "Sozialdemokratische Partei der Schweiz                  4 0.00 0.25 0.00 0.00   \n",
       "Reformierte Kirchen Bern-Jura-Solothurn                 4 0.00 0.50 0.25 0.00   \n",
       "Amnesty International                                   4 0.00 1.00 0.00 0.00   \n",
       "Inclusion Handicap                                      4 0.00 0.50 0.00 0.00   \n",
       "Greenpeace Schweiz                                      4 0.00 0.25 0.00 0.00   \n",
       "Agrarallianz                                            4 0.00 0.25 0.00 0.00   \n",
       "ICTswitzerland                                          4 0.25 0.00 0.25 0.00   \n",
       "Schweizerischer Arbeitgeberverband                      4 0.00 0.00 0.25 0.75   \n",
       "Schweizerische Energie-Stiftung                         3 0.00 0.67 0.00 0.00   \n",
       "Verbindung der Schweizer Ärztinnen und Ärzte (FMH)      3 0.33 0.00 0.33 0.00   \n",
       "Pro Natura - Schweizerischer Bund für Naturschutz       3 0.00 0.33 0.00 0.00   \n",
       "VCS Verkehrs-Club der Schweiz                           3 0.00 0.33 0.00 0.00   \n",
       "Fachstelle für Gesundheitspolitik polsan AG             3 0.00 0.67 0.33 0.00   \n",
       "Suva                                                    3 0.33 0.33 0.00 0.33   \n",
       "Kanton Tessin                                           3 0.33 0.33 0.00 0.33   \n",
       "Kanton Wallis                                           3 0.67 0.00 0.00 0.33   \n",
       "Stiftung Refdata Referenzdaten im schweizerisch...      3 0.67 0.33 0.00 0.00   \n",
       "\n",
       "party                                               GPS  GLP  \n",
       "org                                                           \n",
       "economiesuisse                                     0.00 0.20  \n",
       "furrerhugi.ag                                      0.00 0.00  \n",
       "Bündnis Freiheitliches Gesundheitswesen            0.00 0.00  \n",
       "Sozialdemokratische Partei der Schweiz             0.75 0.00  \n",
       "Reformierte Kirchen Bern-Jura-Solothurn            0.00 0.00  \n",
       "Amnesty International                              0.00 0.00  \n",
       "Inclusion Handicap                                 0.25 0.00  \n",
       "Greenpeace Schweiz                                 0.75 0.00  \n",
       "Agrarallianz                                       0.75 0.00  \n",
       "ICTswitzerland                                     0.00 0.25  \n",
       "Schweizerischer Arbeitgeberverband                 0.00 0.00  \n",
       "Schweizerische Energie-Stiftung                    0.33 0.00  \n",
       "Verbindung der Schweizer Ärztinnen und Ärzte (FMH) 0.00 0.33  \n",
       "Pro Natura - Schweizerischer Bund für Naturschutz  0.67 0.00  \n",
       "VCS Verkehrs-Club der Schweiz                      0.33 0.33  \n",
       "Fachstelle für Gesundheitspolitik polsan AG        0.00 0.00  \n",
       "Suva                                               0.00 0.00  \n",
       "Kanton Tessin                                      0.00 0.00  \n",
       "Kanton Wallis                                      0.00 0.00  \n",
       "Stiftung Refdata Referenzdaten im schweizerisch... 0.00 0.00  "
      ],
      "text/html": "<div>\n<style scoped>\n    .dataframe tbody tr th:only-of-type {\n        vertical-align: middle;\n    }\n\n    .dataframe tbody tr th {\n        vertical-align: top;\n    }\n\n    .dataframe thead th {\n        text-align: right;\n    }\n</style>\n<table border=\"1\" class=\"dataframe\">\n  <thead>\n    <tr style=\"text-align: right;\">\n      <th>party</th>\n      <th>total</th>\n      <th>SVP</th>\n      <th>SP</th>\n      <th>FDP</th>\n      <th>CVP</th>\n      <th>GPS</th>\n      <th>GLP</th>\n    </tr>\n    <tr>\n      <th>org</th>\n      <th></th>\n      <th></th>\n      <th></th>\n      <th></th>\n      <th></th>\n      <th></th>\n      <th></th>\n    </tr>\n  </thead>\n  <tbody>\n    <tr>\n      <th>economiesuisse</th>\n      <td>5</td>\n      <td>0.20</td>\n      <td>0.00</td>\n      <td>0.40</td>\n      <td>0.20</td>\n      <td>0.00</td>\n      <td>0.20</td>\n    </tr>\n    <tr>\n      <th>furrerhugi.ag</th>\n      <td>5</td>\n      <td>0.00</td>\n      <td>0.20</td>\n      <td>0.40</td>\n      <td>0.20</td>\n      <td>0.00</td>\n      <td>0.00</td>\n    </tr>\n    <tr>\n      <th>Bündnis Freiheitliches Gesundheitswesen</th>\n      <td>5</td>\n      <td>0.80</td>\n      <td>0.00</td>\n      <td>0.00</td>\n      <td>0.00</td>\n      <td>0.00</td>\n      <td>0.00</td>\n    </tr>\n    <tr>\n      <th>Sozialdemokratische Partei der Schweiz</th>\n      <td>4</td>\n      <td>0.00</td>\n      <td>0.25</td>\n      <td>0.00</td>\n      <td>0.00</td>\n      <td>0.75</td>\n      <td>0.00</td>\n    </tr>\n    <tr>\n      <th>Reformierte Kirchen Bern-Jura-Solothurn</th>\n      <td>4</td>\n      <td>0.00</td>\n      <td>0.50</td>\n      <td>0.25</td>\n      <td>0.00</td>\n      <td>0.00</td>\n      <td>0.00</td>\n    </tr>\n    <tr>\n      <th>Amnesty International</th>\n      <td>4</td>\n      <td>0.00</td>\n      <td>1.00</td>\n      <td>0.00</td>\n      <td>0.00</td>\n      <td>0.00</td>\n      <td>0.00</td>\n    </tr>\n    <tr>\n      <th>Inclusion Handicap</th>\n      <td>4</td>\n      <td>0.00</td>\n      <td>0.50</td>\n      <td>0.00</td>\n      <td>0.00</td>\n      <td>0.25</td>\n      <td>0.00</td>\n    </tr>\n    <tr>\n      <th>Greenpeace Schweiz</th>\n      <td>4</td>\n      <td>0.00</td>\n      <td>0.25</td>\n      <td>0.00</td>\n      <td>0.00</td>\n      <td>0.75</td>\n      <td>0.00</td>\n    </tr>\n    <tr>\n      <th>Agrarallianz</th>\n      <td>4</td>\n      <td>0.00</td>\n      <td>0.25</td>\n      <td>0.00</td>\n      <td>0.00</td>\n      <td>0.75</td>\n      <td>0.00</td>\n    </tr>\n    <tr>\n      <th>ICTswitzerland</th>\n      <td>4</td>\n      <td>0.25</td>\n      <td>0.00</td>\n      <td>0.25</td>\n      <td>0.00</td>\n      <td>0.00</td>\n      <td>0.25</td>\n    </tr>\n    <tr>\n      <th>Schweizerischer Arbeitgeberverband</th>\n      <td>4</td>\n      <td>0.00</td>\n      <td>0.00</td>\n      <td>0.25</td>\n      <td>0.75</td>\n      <td>0.00</td>\n      <td>0.00</td>\n    </tr>\n    <tr>\n      <th>Schweizerische Energie-Stiftung</th>\n      <td>3</td>\n      <td>0.00</td>\n      <td>0.67</td>\n      <td>0.00</td>\n      <td>0.00</td>\n      <td>0.33</td>\n      <td>0.00</td>\n    </tr>\n    <tr>\n      <th>Verbindung der Schweizer Ärztinnen und Ärzte (FMH)</th>\n      <td>3</td>\n      <td>0.33</td>\n      <td>0.00</td>\n      <td>0.33</td>\n      <td>0.00</td>\n      <td>0.00</td>\n      <td>0.33</td>\n    </tr>\n    <tr>\n      <th>Pro Natura - Schweizerischer Bund für Naturschutz</th>\n      <td>3</td>\n      <td>0.00</td>\n      <td>0.33</td>\n      <td>0.00</td>\n      <td>0.00</td>\n      <td>0.67</td>\n      <td>0.00</td>\n    </tr>\n    <tr>\n      <th>VCS Verkehrs-Club der Schweiz</th>\n      <td>3</td>\n      <td>0.00</td>\n      <td>0.33</td>\n      <td>0.00</td>\n      <td>0.00</td>\n      <td>0.33</td>\n      <td>0.33</td>\n    </tr>\n    <tr>\n      <th>Fachstelle für Gesundheitspolitik polsan AG</th>\n      <td>3</td>\n      <td>0.00</td>\n      <td>0.67</td>\n      <td>0.33</td>\n      <td>0.00</td>\n      <td>0.00</td>\n      <td>0.00</td>\n    </tr>\n    <tr>\n      <th>Suva</th>\n      <td>3</td>\n      <td>0.33</td>\n      <td>0.33</td>\n      <td>0.00</td>\n      <td>0.33</td>\n      <td>0.00</td>\n      <td>0.00</td>\n    </tr>\n    <tr>\n      <th>Kanton Tessin</th>\n      <td>3</td>\n      <td>0.33</td>\n      <td>0.33</td>\n      <td>0.00</td>\n      <td>0.33</td>\n      <td>0.00</td>\n      <td>0.00</td>\n    </tr>\n    <tr>\n      <th>Kanton Wallis</th>\n      <td>3</td>\n      <td>0.67</td>\n      <td>0.00</td>\n      <td>0.00</td>\n      <td>0.33</td>\n      <td>0.00</td>\n      <td>0.00</td>\n    </tr>\n    <tr>\n      <th>Stiftung Refdata Referenzdaten im schweizerischen Gesundheitswesen</th>\n      <td>3</td>\n      <td>0.67</td>\n      <td>0.33</td>\n      <td>0.00</td>\n      <td>0.00</td>\n      <td>0.00</td>\n      <td>0.00</td>\n    </tr>\n  </tbody>\n</table>\n</div>"
     },
     "metadata": {},
     "execution_count": 155
    }
   ],
   "source": [
    "df = indirect_influence #all_influences, direct_influence, indirect_influence\n",
    "\n",
    "influences = pd.pivot_table(df[[\"politician\",\"party\", \"org\"]], values='politician', index=['org'], columns=['party'], aggfunc=len).fillna(0)\n",
    "influences[\"total\"] = influences.sum(axis=1).astype(int)\n",
    "\n",
    "influences = influences[[\"total\"] + relevant_parties]\n",
    "influences[relevant_parties] = influences[relevant_parties].div(influences.total, axis = 0)\n",
    "influences.sort_values(by=\"total\", ascending = False)[10:30]"
   ]
  },
  {
   "cell_type": "code",
   "execution_count": 156,
   "metadata": {},
   "outputs": [],
   "source": [
    "query = \"\"\"\n",
    "    PREFIX http: <http://www.w3.org/2011/http#>\n",
    "    PREFIX or: <http://openresearch.org/vocab/>\n",
    "    PREFIX rdf: <http://www.w3.org/1999/02/22-rdf-syntax-ns#>\n",
    "    PREFIX rdfs: <http://www.w3.org/2000/01/rdf-schema#>\n",
    "    PREFIX schema: <http://schema.org/>\n",
    "    PREFIX dbo: <http://dbpedia.org/ontology/>\n",
    "    PREFIX lw: <https://lod.lobbywatch.ch/>\n",
    "    PREFIX org: <http://www.w3.org/ns/org#>\n",
    "\n",
    "    SELECT DISTINCT ?lobbyName ?sectorName ?org ?lobbyist ?party\n",
    "    WHERE {\n",
    "      ?lobby a lw:Lobby;\n",
    "         rdfs:label ?lobbyName;\n",
    "        lw:businessSector ?sector ;\n",
    "        schema:member ?member .\n",
    "      ?sector rdfs:label ?sectorName .\n",
    "\n",
    "      ?member schema:familyName ?lastName;\n",
    "              schema:givenName ?firstName.\n",
    "\n",
    "      OPTIONAL{\n",
    "        ?access lw:issuedTo ?member.\n",
    "        ?access lw:issuedBy ?politician.\n",
    "        ?politician schema:memberOf ?political_org.\n",
    "        ?political_org a dbo:PoliticalParty.\n",
    "        ?political_org <http://www.w3.org/2004/02/skos/core#altLabel> ?party.\n",
    "\n",
    "        ?member schema:hasOccupation ?occupation_uri;\n",
    "               org:hasMembership ?membership.\n",
    "        ?membership <http://www.w3.org/ns/org#organization> ?org_uri.\n",
    "        ?org_uri <http://schema.org/name> ?org.\n",
    "      }\n",
    "      BIND(CONCAT(?firstName, \" \", ?lastName) AS ?lobbyist) .\n",
    "\n",
    "      FILTER(LANG(?lobbyName) = \"de\")\n",
    "      FILTER(LANG(?sectorName) = \"de\")\n",
    "      FILTER(LANG(?org) = \"de\")\n",
    "      FILTER(LANG(?party) = \"de\")\n",
    "    }\n",
    "\"\"\"\n",
    "\n",
    "df = client.send_query(query)"
   ]
  },
  {
   "cell_type": "code",
   "execution_count": 166,
   "metadata": {},
   "outputs": [],
   "source": [
    "lobbies = dict()\n",
    "for result in results:\n",
    "\n",
    "    org = result[\"org\"].value\n",
    "    subsector = result[\"lobbyName\"].value\n",
    "    sector = result[\"sectorName\"].value\n",
    "\n",
    "    if sector in lobbies:\n",
    "        \n",
    "        if subsector in lobbies[sector]:\n",
    "            lobbies[sector][subsector].add(org)\n",
    "        else:\n",
    "            lobbies[sector][subsector] = set([org])\n",
    "        \n",
    "    else:\n",
    "        lobbies[sector] = {\n",
    "            subsector: set([org]),\n",
    "        }\n",
    "    "
   ]
  },
  {
   "cell_type": "code",
   "execution_count": 167,
   "metadata": {},
   "outputs": [
    {
     "output_type": "execute_result",
     "data": {
      "text/plain": [
       "{'ARA Kiesental-Aaretal ARAKA AG',\n",
       " 'Agroscope',\n",
       " 'BWZ Berufs- und Weiterbildungszentrum Lyss',\n",
       " 'CSS Versicherung AG',\n",
       " 'EAE (Energieagentur Elektrogeräte)',\n",
       " 'Gemeinde Konolfingen',\n",
       " 'Groupe Mutuel Services SA',\n",
       " 'Pink Cross',\n",
       " 'Santésuisse',\n",
       " 'Schweizerische Volkspartei',\n",
       " 'Schweizerische Volkspartei International',\n",
       " 'Swiss Diversity Award',\n",
       " 'digital.swiss'}"
      ]
     },
     "metadata": {},
     "execution_count": 167
    }
   ],
   "source": [
    "# Companies having its stakes in lobby\n",
    "lobbies[\"Gesundheit\"][\"Krankenkassen\"]"
   ]
  },
  {
   "cell_type": "code",
   "execution_count": 168,
   "metadata": {},
   "outputs": [
    {
     "output_type": "execute_result",
     "data": {
      "text/plain": [
       "                     lobbyName                      sectorName  lobbyist\n",
       "16               Consulting/PR                      Wirtschaft        40\n",
       "4   Arbeitnehmerorganisationen                      Wirtschaft        14\n",
       "68              Umwelt & Natur                          Umwelt        12\n",
       "13        Bildung/Wissenschaft                         Bildung        11\n",
       "39            Kantone/Regionen  Staatspolitik/Staatswirtschaft        10\n",
       "67       Tourismus/Gastronomie                      Wirtschaft         8\n",
       "2         Advokaturen/Treuhand                      Wirtschaft         8\n",
       "44    Landwirtschaft allgemein                  Landwirtschaft         8\n",
       "38     KMU/Gewerbe/Arbeitgeber                      Wirtschaft         8\n",
       "8                       Banken                      Wirtschaft         7"
      ],
      "text/html": "<div>\n<style scoped>\n    .dataframe tbody tr th:only-of-type {\n        vertical-align: middle;\n    }\n\n    .dataframe tbody tr th {\n        vertical-align: top;\n    }\n\n    .dataframe thead th {\n        text-align: right;\n    }\n</style>\n<table border=\"1\" class=\"dataframe\">\n  <thead>\n    <tr style=\"text-align: right;\">\n      <th></th>\n      <th>lobbyName</th>\n      <th>sectorName</th>\n      <th>lobbyist</th>\n    </tr>\n  </thead>\n  <tbody>\n    <tr>\n      <th>16</th>\n      <td>Consulting/PR</td>\n      <td>Wirtschaft</td>\n      <td>40</td>\n    </tr>\n    <tr>\n      <th>4</th>\n      <td>Arbeitnehmerorganisationen</td>\n      <td>Wirtschaft</td>\n      <td>14</td>\n    </tr>\n    <tr>\n      <th>68</th>\n      <td>Umwelt &amp; Natur</td>\n      <td>Umwelt</td>\n      <td>12</td>\n    </tr>\n    <tr>\n      <th>13</th>\n      <td>Bildung/Wissenschaft</td>\n      <td>Bildung</td>\n      <td>11</td>\n    </tr>\n    <tr>\n      <th>39</th>\n      <td>Kantone/Regionen</td>\n      <td>Staatspolitik/Staatswirtschaft</td>\n      <td>10</td>\n    </tr>\n    <tr>\n      <th>67</th>\n      <td>Tourismus/Gastronomie</td>\n      <td>Wirtschaft</td>\n      <td>8</td>\n    </tr>\n    <tr>\n      <th>2</th>\n      <td>Advokaturen/Treuhand</td>\n      <td>Wirtschaft</td>\n      <td>8</td>\n    </tr>\n    <tr>\n      <th>44</th>\n      <td>Landwirtschaft allgemein</td>\n      <td>Landwirtschaft</td>\n      <td>8</td>\n    </tr>\n    <tr>\n      <th>38</th>\n      <td>KMU/Gewerbe/Arbeitgeber</td>\n      <td>Wirtschaft</td>\n      <td>8</td>\n    </tr>\n    <tr>\n      <th>8</th>\n      <td>Banken</td>\n      <td>Wirtschaft</td>\n      <td>7</td>\n    </tr>\n  </tbody>\n</table>\n</div>"
     },
     "metadata": {},
     "execution_count": 168
    }
   ],
   "source": [
    "subset = df[[\"lobbyName\", \"lobbyist\", \"sectorName\"]].drop_duplicates().groupby([\"lobbyName\", \"sectorName\"]).count().reset_index().sort_values(by=\"lobbyist\", ascending=False)\n",
    "subset[0:10]"
   ]
  },
  {
   "cell_type": "code",
   "execution_count": 169,
   "metadata": {},
   "outputs": [
    {
     "output_type": "execute_result",
     "data": {
      "text/plain": [
       "{'Bank Julius Bär & Co. AG',\n",
       " 'Bündner Offiziersgesellschaft',\n",
       " 'CVP Baden',\n",
       " 'FDP Die Liberalen Fällanden',\n",
       " 'FDP Die Liberalen Graubünden',\n",
       " 'FDP Die Liberalen Schweiz',\n",
       " 'FDP die Liberalen Baar',\n",
       " 'Freidenker-Vereinigung der Schweiz',\n",
       " 'Gemeinde Fällanden',\n",
       " 'HarbourClub, Chief Communications Officers',\n",
       " 'Jungfreisinnige Graubünden',\n",
       " 'LZ Medien Holding AG',\n",
       " 'Raiffeisen Schweiz',\n",
       " 'SAMDalumni',\n",
       " 'SIX Group AG',\n",
       " 'SOG Schweizerische Offiziersgesellschaft',\n",
       " 'Schweizerische Bankiervereinigung',\n",
       " 'Schweizerische Offiziersgesellschaft der Artillerie',\n",
       " 'Stadt Baden',\n",
       " 'Surseer Woche AG',\n",
       " 'Universität Luzern',\n",
       " 'Verband Schweizerischer Kantonalbanken',\n",
       " 'Vereinigung Schweizerischer Assetmanagement- und Vermögensverwaltungsbanken VAV',\n",
       " 'Vereinigung Schweizerischer Privatbanken'}"
      ]
     },
     "metadata": {},
     "execution_count": 169
    }
   ],
   "source": [
    "lobbies[\"Wirtschaft\"][\"Banken\"]"
   ]
  },
  {
   "cell_type": "code",
   "execution_count": 170,
   "metadata": {},
   "outputs": [
    {
     "output_type": "execute_result",
     "data": {
      "text/plain": [
       "party                                                      total  SVP  SP  \\\n",
       "lobbyName                  sectorName                                       \n",
       "Consulting/PR              Wirtschaft                         40   10  11   \n",
       "Arbeitnehmerorganisationen Wirtschaft                         14    0  10   \n",
       "Umwelt & Natur             Umwelt                             12    0   2   \n",
       "Bildung/Wissenschaft       Bildung                            11    1   6   \n",
       "Kantone/Regionen           Staatspolitik/Staatswirtschaft     10    1   2   \n",
       "Tourismus/Gastronomie      Wirtschaft                          8    2   0   \n",
       "Advokaturen/Treuhand       Wirtschaft                          8    3   0   \n",
       "Landwirtschaft allgemein   Landwirtschaft                      8    4   0   \n",
       "KMU/Gewerbe/Arbeitgeber    Wirtschaft                          8    2   0   \n",
       "Banken                     Wirtschaft                          7    2   0   \n",
       "\n",
       "party                                                      FDP  CVP  GPS  GLP  \n",
       "lobbyName                  sectorName                                          \n",
       "Consulting/PR              Wirtschaft                        8    5    1    3  \n",
       "Arbeitnehmerorganisationen Wirtschaft                        0    0    4    0  \n",
       "Umwelt & Natur             Umwelt                            0    0    9    0  \n",
       "Bildung/Wissenschaft       Bildung                           2    2    0    0  \n",
       "Kantone/Regionen           Staatspolitik/Staatswirtschaft    2    2    2    0  \n",
       "Tourismus/Gastronomie      Wirtschaft                        0    5    1    0  \n",
       "Advokaturen/Treuhand       Wirtschaft                        3    2    0    0  \n",
       "Landwirtschaft allgemein   Landwirtschaft                    1    3    0    0  \n",
       "KMU/Gewerbe/Arbeitgeber    Wirtschaft                        4    2    0    0  \n",
       "Banken                     Wirtschaft                        3    2    0    0  "
      ],
      "text/html": "<div>\n<style scoped>\n    .dataframe tbody tr th:only-of-type {\n        vertical-align: middle;\n    }\n\n    .dataframe tbody tr th {\n        vertical-align: top;\n    }\n\n    .dataframe thead th {\n        text-align: right;\n    }\n</style>\n<table border=\"1\" class=\"dataframe\">\n  <thead>\n    <tr style=\"text-align: right;\">\n      <th></th>\n      <th>party</th>\n      <th>total</th>\n      <th>SVP</th>\n      <th>SP</th>\n      <th>FDP</th>\n      <th>CVP</th>\n      <th>GPS</th>\n      <th>GLP</th>\n    </tr>\n    <tr>\n      <th>lobbyName</th>\n      <th>sectorName</th>\n      <th></th>\n      <th></th>\n      <th></th>\n      <th></th>\n      <th></th>\n      <th></th>\n      <th></th>\n    </tr>\n  </thead>\n  <tbody>\n    <tr>\n      <th>Consulting/PR</th>\n      <th>Wirtschaft</th>\n      <td>40</td>\n      <td>10</td>\n      <td>11</td>\n      <td>8</td>\n      <td>5</td>\n      <td>1</td>\n      <td>3</td>\n    </tr>\n    <tr>\n      <th>Arbeitnehmerorganisationen</th>\n      <th>Wirtschaft</th>\n      <td>14</td>\n      <td>0</td>\n      <td>10</td>\n      <td>0</td>\n      <td>0</td>\n      <td>4</td>\n      <td>0</td>\n    </tr>\n    <tr>\n      <th>Umwelt &amp; Natur</th>\n      <th>Umwelt</th>\n      <td>12</td>\n      <td>0</td>\n      <td>2</td>\n      <td>0</td>\n      <td>0</td>\n      <td>9</td>\n      <td>0</td>\n    </tr>\n    <tr>\n      <th>Bildung/Wissenschaft</th>\n      <th>Bildung</th>\n      <td>11</td>\n      <td>1</td>\n      <td>6</td>\n      <td>2</td>\n      <td>2</td>\n      <td>0</td>\n      <td>0</td>\n    </tr>\n    <tr>\n      <th>Kantone/Regionen</th>\n      <th>Staatspolitik/Staatswirtschaft</th>\n      <td>10</td>\n      <td>1</td>\n      <td>2</td>\n      <td>2</td>\n      <td>2</td>\n      <td>2</td>\n      <td>0</td>\n    </tr>\n    <tr>\n      <th>Tourismus/Gastronomie</th>\n      <th>Wirtschaft</th>\n      <td>8</td>\n      <td>2</td>\n      <td>0</td>\n      <td>0</td>\n      <td>5</td>\n      <td>1</td>\n      <td>0</td>\n    </tr>\n    <tr>\n      <th>Advokaturen/Treuhand</th>\n      <th>Wirtschaft</th>\n      <td>8</td>\n      <td>3</td>\n      <td>0</td>\n      <td>3</td>\n      <td>2</td>\n      <td>0</td>\n      <td>0</td>\n    </tr>\n    <tr>\n      <th>Landwirtschaft allgemein</th>\n      <th>Landwirtschaft</th>\n      <td>8</td>\n      <td>4</td>\n      <td>0</td>\n      <td>1</td>\n      <td>3</td>\n      <td>0</td>\n      <td>0</td>\n    </tr>\n    <tr>\n      <th>KMU/Gewerbe/Arbeitgeber</th>\n      <th>Wirtschaft</th>\n      <td>8</td>\n      <td>2</td>\n      <td>0</td>\n      <td>4</td>\n      <td>2</td>\n      <td>0</td>\n      <td>0</td>\n    </tr>\n    <tr>\n      <th>Banken</th>\n      <th>Wirtschaft</th>\n      <td>7</td>\n      <td>2</td>\n      <td>0</td>\n      <td>3</td>\n      <td>2</td>\n      <td>0</td>\n      <td>0</td>\n    </tr>\n  </tbody>\n</table>\n</div>"
     },
     "metadata": {},
     "execution_count": 170
    }
   ],
   "source": [
    "parties = df[[\"lobbyName\", \"sectorName\", \"lobbyist\", \"party\"]].drop_duplicates()\n",
    "lobbysts = pd.pivot_table(parties, values='lobbyist', index=['lobbyName', \"sectorName\"], columns=['party'], aggfunc=len).fillna(0)\n",
    "lobbysts[\"total\"] = lobbysts.sum(axis=1)\n",
    "\n",
    "lobbysts = lobbysts[[\"total\"] + relevant_parties].astype(int)\n",
    "lobbysts.sort_values(by=\"total\", ascending = False)[0:10]"
   ]
  },
  {
   "cell_type": "code",
   "execution_count": 171,
   "metadata": {},
   "outputs": [
    {
     "output_type": "execute_result",
     "data": {
      "text/plain": [
       "0                                 Frauengruppe\n",
       "1      Nationale Plattform zu den Sans-Papiers\n",
       "2                        Pfadibewegung Schweiz\n",
       "3                              Bundeshaus-Band\n",
       "4                         Fondation Mère Sofia\n",
       "5       Sozialdemokratische Partei der Schweiz\n",
       "6             Fondation Marie-Eléonore d'Olcah\n",
       "349                                  Migration\n",
       "351                      Amnesty International\n",
       "352         Homosexuelle Arbeitsgruppen Zürich\n",
       "Name: org, dtype: object"
      ]
     },
     "metadata": {},
     "execution_count": 171
    }
   ],
   "source": [
    "party = \"SP\"\n",
    "all_influences[all_influences[\"party\"] == party][\"org\"].drop_duplicates()[0:10]"
   ]
  },
  {
   "cell_type": "code",
   "execution_count": 172,
   "metadata": {},
   "outputs": [
    {
     "output_type": "execute_result",
     "data": {
      "text/plain": [
       "                     politician party                    org  \\\n",
       "351              Angelo Barrile    SP  Amnesty International   \n",
       "505                Barbara Gysi    SP  Amnesty International   \n",
       "1289             Cédric Wermuth    SP  Amnesty International   \n",
       "3831               Martina Munz    SP  Amnesty International   \n",
       "4249           Nadine Masshardt    SP  Amnesty International   \n",
       "4898             Roger Nordmann    SP  Amnesty International   \n",
       "5559  Ursula Schneider Schüttel    SP  Amnesty International   \n",
       "259           Christian Dandrès    SP  Amnesty International   \n",
       "837    Laurence Fehlmann Rielle    SP  Amnesty International   \n",
       "1033            Mathias Reynard    SP  Amnesty International   \n",
       "1547                Yvonne Feri    SP  Amnesty International   \n",
       "\n",
       "                                          org_uri           org_id  \n",
       "351   https://lod.lobbywatch.ch/organisation/1064  CHE-106.126.410  \n",
       "505   https://lod.lobbywatch.ch/organisation/1064  CHE-106.126.410  \n",
       "1289  https://lod.lobbywatch.ch/organisation/1064  CHE-106.126.410  \n",
       "3831  https://lod.lobbywatch.ch/organisation/1064  CHE-106.126.410  \n",
       "4249  https://lod.lobbywatch.ch/organisation/1064  CHE-106.126.410  \n",
       "4898  https://lod.lobbywatch.ch/organisation/1064  CHE-106.126.410  \n",
       "5559  https://lod.lobbywatch.ch/organisation/1064  CHE-106.126.410  \n",
       "259   https://lod.lobbywatch.ch/organisation/1064  CHE-106.126.410  \n",
       "837   https://lod.lobbywatch.ch/organisation/1064  CHE-106.126.410  \n",
       "1033  https://lod.lobbywatch.ch/organisation/1064  CHE-106.126.410  \n",
       "1547  https://lod.lobbywatch.ch/organisation/1064  CHE-106.126.410  "
      ],
      "text/html": "<div>\n<style scoped>\n    .dataframe tbody tr th:only-of-type {\n        vertical-align: middle;\n    }\n\n    .dataframe tbody tr th {\n        vertical-align: top;\n    }\n\n    .dataframe thead th {\n        text-align: right;\n    }\n</style>\n<table border=\"1\" class=\"dataframe\">\n  <thead>\n    <tr style=\"text-align: right;\">\n      <th></th>\n      <th>politician</th>\n      <th>party</th>\n      <th>org</th>\n      <th>org_uri</th>\n      <th>org_id</th>\n    </tr>\n  </thead>\n  <tbody>\n    <tr>\n      <th>351</th>\n      <td>Angelo Barrile</td>\n      <td>SP</td>\n      <td>Amnesty International</td>\n      <td>https://lod.lobbywatch.ch/organisation/1064</td>\n      <td>CHE-106.126.410</td>\n    </tr>\n    <tr>\n      <th>505</th>\n      <td>Barbara Gysi</td>\n      <td>SP</td>\n      <td>Amnesty International</td>\n      <td>https://lod.lobbywatch.ch/organisation/1064</td>\n      <td>CHE-106.126.410</td>\n    </tr>\n    <tr>\n      <th>1289</th>\n      <td>Cédric Wermuth</td>\n      <td>SP</td>\n      <td>Amnesty International</td>\n      <td>https://lod.lobbywatch.ch/organisation/1064</td>\n      <td>CHE-106.126.410</td>\n    </tr>\n    <tr>\n      <th>3831</th>\n      <td>Martina Munz</td>\n      <td>SP</td>\n      <td>Amnesty International</td>\n      <td>https://lod.lobbywatch.ch/organisation/1064</td>\n      <td>CHE-106.126.410</td>\n    </tr>\n    <tr>\n      <th>4249</th>\n      <td>Nadine Masshardt</td>\n      <td>SP</td>\n      <td>Amnesty International</td>\n      <td>https://lod.lobbywatch.ch/organisation/1064</td>\n      <td>CHE-106.126.410</td>\n    </tr>\n    <tr>\n      <th>4898</th>\n      <td>Roger Nordmann</td>\n      <td>SP</td>\n      <td>Amnesty International</td>\n      <td>https://lod.lobbywatch.ch/organisation/1064</td>\n      <td>CHE-106.126.410</td>\n    </tr>\n    <tr>\n      <th>5559</th>\n      <td>Ursula Schneider Schüttel</td>\n      <td>SP</td>\n      <td>Amnesty International</td>\n      <td>https://lod.lobbywatch.ch/organisation/1064</td>\n      <td>CHE-106.126.410</td>\n    </tr>\n    <tr>\n      <th>259</th>\n      <td>Christian Dandrès</td>\n      <td>SP</td>\n      <td>Amnesty International</td>\n      <td>https://lod.lobbywatch.ch/organisation/1064</td>\n      <td>CHE-106.126.410</td>\n    </tr>\n    <tr>\n      <th>837</th>\n      <td>Laurence Fehlmann Rielle</td>\n      <td>SP</td>\n      <td>Amnesty International</td>\n      <td>https://lod.lobbywatch.ch/organisation/1064</td>\n      <td>CHE-106.126.410</td>\n    </tr>\n    <tr>\n      <th>1033</th>\n      <td>Mathias Reynard</td>\n      <td>SP</td>\n      <td>Amnesty International</td>\n      <td>https://lod.lobbywatch.ch/organisation/1064</td>\n      <td>CHE-106.126.410</td>\n    </tr>\n    <tr>\n      <th>1547</th>\n      <td>Yvonne Feri</td>\n      <td>SP</td>\n      <td>Amnesty International</td>\n      <td>https://lod.lobbywatch.ch/organisation/1064</td>\n      <td>CHE-106.126.410</td>\n    </tr>\n  </tbody>\n</table>\n</div>"
     },
     "metadata": {},
     "execution_count": 172
    }
   ],
   "source": [
    "company = \"Amnesty International\"\n",
    "\n",
    "all_influences[(all_influences[\"party\"] == party) & (all_influences[\"org\"] == company)]"
   ]
  },
  {
   "cell_type": "code",
   "execution_count": 173,
   "metadata": {},
   "outputs": [
    {
     "output_type": "execute_result",
     "data": {
      "text/plain": [
       "                    politician party                    org  \\\n",
       "259          Christian Dandrès    SP  Amnesty International   \n",
       "837   Laurence Fehlmann Rielle    SP  Amnesty International   \n",
       "1033           Mathias Reynard    SP  Amnesty International   \n",
       "1547               Yvonne Feri    SP  Amnesty International   \n",
       "\n",
       "                                          org_uri           org_id  \n",
       "259   https://lod.lobbywatch.ch/organisation/1064  CHE-106.126.410  \n",
       "837   https://lod.lobbywatch.ch/organisation/1064  CHE-106.126.410  \n",
       "1033  https://lod.lobbywatch.ch/organisation/1064  CHE-106.126.410  \n",
       "1547  https://lod.lobbywatch.ch/organisation/1064  CHE-106.126.410  "
      ],
      "text/html": "<div>\n<style scoped>\n    .dataframe tbody tr th:only-of-type {\n        vertical-align: middle;\n    }\n\n    .dataframe tbody tr th {\n        vertical-align: top;\n    }\n\n    .dataframe thead th {\n        text-align: right;\n    }\n</style>\n<table border=\"1\" class=\"dataframe\">\n  <thead>\n    <tr style=\"text-align: right;\">\n      <th></th>\n      <th>politician</th>\n      <th>party</th>\n      <th>org</th>\n      <th>org_uri</th>\n      <th>org_id</th>\n    </tr>\n  </thead>\n  <tbody>\n    <tr>\n      <th>259</th>\n      <td>Christian Dandrès</td>\n      <td>SP</td>\n      <td>Amnesty International</td>\n      <td>https://lod.lobbywatch.ch/organisation/1064</td>\n      <td>CHE-106.126.410</td>\n    </tr>\n    <tr>\n      <th>837</th>\n      <td>Laurence Fehlmann Rielle</td>\n      <td>SP</td>\n      <td>Amnesty International</td>\n      <td>https://lod.lobbywatch.ch/organisation/1064</td>\n      <td>CHE-106.126.410</td>\n    </tr>\n    <tr>\n      <th>1033</th>\n      <td>Mathias Reynard</td>\n      <td>SP</td>\n      <td>Amnesty International</td>\n      <td>https://lod.lobbywatch.ch/organisation/1064</td>\n      <td>CHE-106.126.410</td>\n    </tr>\n    <tr>\n      <th>1547</th>\n      <td>Yvonne Feri</td>\n      <td>SP</td>\n      <td>Amnesty International</td>\n      <td>https://lod.lobbywatch.ch/organisation/1064</td>\n      <td>CHE-106.126.410</td>\n    </tr>\n  </tbody>\n</table>\n</div>"
     },
     "metadata": {},
     "execution_count": 173
    }
   ],
   "source": [
    "indirect_influence[(indirect_influence[\"party\"] == party) & (indirect_influence[\"org\"] == company)]"
   ]
  }
 ],
 "metadata": {
  "kernelspec": {
   "display_name": "linked-lobbysts",
   "language": "python",
   "name": "linked-lobbysts"
  },
  "language_info": {
   "codemirror_mode": {
    "name": "ipython",
    "version": 3
   },
   "file_extension": ".py",
   "mimetype": "text/x-python",
   "name": "python",
   "nbconvert_exporter": "python",
   "pygments_lexer": "ipython3",
   "version": "3.8.5-final"
  }
 },
 "nbformat": 4,
 "nbformat_minor": 4
}